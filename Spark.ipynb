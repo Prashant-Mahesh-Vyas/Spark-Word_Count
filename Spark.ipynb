{
 "cells": [
  {
   "cell_type": "code",
   "execution_count": 73,
   "metadata": {},
   "outputs": [],
   "source": [
    "import re, string\n",
    "from pyspark import SparkConf\n",
    "from pyspark import SparkContext as sc\n",
    "sc = SparkContext.getOrCreate(SparkConf().setMaster(\"local[*]\"))\n",
    "text_file = sc.textFile('pride_and_prejudice.txt', use_unicode = True)"
   ]
  },
  {
   "cell_type": "code",
   "execution_count": 74,
   "metadata": {},
   "outputs": [
    {
     "data": {
      "text/plain": [
       "['PRIDE AND PREJUDICE', '', 'By Jane Austen', '', '']"
      ]
     },
     "execution_count": 74,
     "metadata": {},
     "output_type": "execute_result"
    }
   ],
   "source": [
    "# first 5 elements of the RDD\n",
    "text_file.take(5)"
   ]
  },
  {
   "cell_type": "code",
   "execution_count": 75,
   "metadata": {},
   "outputs": [
    {
     "data": {
      "text/plain": [
       "str"
      ]
     },
     "execution_count": 75,
     "metadata": {},
     "output_type": "execute_result"
    }
   ],
   "source": [
    "type(u'lama')"
   ]
  },
  {
   "cell_type": "code",
   "execution_count": 76,
   "metadata": {},
   "outputs": [
    {
     "data": {
      "text/plain": [
       "'!\"#$%&\\'()*+,-./:;<=>?@[\\\\]^_`{|}~'"
      ]
     },
     "execution_count": 76,
     "metadata": {},
     "output_type": "execute_result"
    }
   ],
   "source": [
    "string.punctuation"
   ]
  },
  {
   "cell_type": "code",
   "execution_count": 77,
   "metadata": {},
   "outputs": [],
   "source": [
    "punc = '!\"#$%&\\'()*+,./:;<=>?@[\\\\]^_`{|}~'"
   ]
  },
  {
   "cell_type": "code",
   "execution_count": 86,
   "metadata": {},
   "outputs": [],
   "source": [
    "def uni_to_clean_str(x):\n",
    "    converted = x.encode('utf-8')\n",
    "    lowercased_str = converted.lower()\n",
    "    # for more difficult cases use re.split(' A|B')\n",
    "    lowercased_str = lowercased_str.decode('utf-8').replace('--',' ')\n",
    "    clean_str = lowercased_str.translate(punc) #Change 1\n",
    "    return clean_str"
   ]
  },
  {
   "cell_type": "code",
   "execution_count": 87,
   "metadata": {},
   "outputs": [
    {
     "data": {
      "text/plain": [
       "[('pride', 28),\n",
       " ('jane', 156),\n",
       " ('chapter', 61),\n",
       " ('1', 1),\n",
       " ('is', 794),\n",
       " ('acknowledged,', 7),\n",
       " ('single', 8),\n",
       " ('in', 1838),\n",
       " ('possession', 8),\n",
       " ('of', 3574),\n",
       " ('good', 158),\n",
       " ('must', 299),\n",
       " ('however', 15),\n",
       " ('known', 47),\n",
       " ('views', 10)]"
      ]
     },
     "execution_count": 87,
     "metadata": {},
     "output_type": "execute_result"
    }
   ],
   "source": [
    "one_RDD = text_file.flatMap(lambda x: uni_to_clean_str(x).split())\n",
    "one_RDD = one_RDD.map(lambda x: (x,1))\n",
    "one_RDD = one_RDD.reduceByKey(lambda x,y: x + y)\n",
    "one_RDD.take(15)"
   ]
  },
  {
   "cell_type": "code",
   "execution_count": 88,
   "metadata": {},
   "outputs": [
    {
     "data": {
      "text/plain": [
       "['pride and prejudice', '', 'by jane austen', '', '']"
      ]
     },
     "execution_count": 88,
     "metadata": {},
     "output_type": "execute_result"
    }
   ],
   "source": [
    "one_RDD = text_file.map(lambda x: uni_to_clean_str(x))\n",
    "one_RDD.take(5)"
   ]
  },
  {
   "cell_type": "code",
   "execution_count": 89,
   "metadata": {},
   "outputs": [
    {
     "data": {
      "text/plain": [
       "[['pride', 'and', 'prejudice'], [], ['by', 'jane', 'austen'], [], []]"
      ]
     },
     "execution_count": 89,
     "metadata": {},
     "output_type": "execute_result"
    }
   ],
   "source": [
    "one_RDD = text_file.map(lambda x: uni_to_clean_str(x).split())\n",
    "one_RDD.take(5)"
   ]
  },
  {
   "cell_type": "code",
   "execution_count": 90,
   "metadata": {},
   "outputs": [
    {
     "data": {
      "text/plain": [
       "['pride', 'and', 'prejudice', 'by', 'jane']"
      ]
     },
     "execution_count": 90,
     "metadata": {},
     "output_type": "execute_result"
    }
   ],
   "source": [
    "one_RDD = text_file.flatMap(lambda x: uni_to_clean_str(x).split())\n",
    "one_RDD.take(5)"
   ]
  },
  {
   "cell_type": "code",
   "execution_count": 91,
   "metadata": {},
   "outputs": [
    {
     "data": {
      "text/plain": [
       "[('pride', 1), ('and', 1), ('prejudice', 1), ('by', 1), ('jane', 1)]"
      ]
     },
     "execution_count": 91,
     "metadata": {},
     "output_type": "execute_result"
    }
   ],
   "source": [
    "one_RDD = text_file.flatMap(lambda x: uni_to_clean_str(x).split())\n",
    "one_RDD = one_RDD.map(lambda x: (x,1))\n",
    "one_RDD.take(5)"
   ]
  },
  {
   "cell_type": "code",
   "execution_count": 92,
   "metadata": {},
   "outputs": [
    {
     "data": {
      "text/plain": [
       "[('pride', 28),\n",
       " ('jane', 156),\n",
       " ('chapter', 61),\n",
       " ('1', 1),\n",
       " ('is', 794),\n",
       " ('acknowledged,', 7),\n",
       " ('single', 8),\n",
       " ('in', 1838),\n",
       " ('possession', 8),\n",
       " ('of', 3574),\n",
       " ('good', 158),\n",
       " ('must', 299),\n",
       " ('however', 15),\n",
       " ('known', 47),\n",
       " ('views', 10)]"
      ]
     },
     "execution_count": 92,
     "metadata": {},
     "output_type": "execute_result"
    }
   ],
   "source": [
    "one_RDD = text_file.flatMap(lambda x: uni_to_clean_str(x).split())\n",
    "one_RDD = one_RDD.map(lambda x: (x,1))\n",
    "one_RDD = one_RDD.reduceByKey(lambda x,y: x + y)\n",
    "one_RDD.take(15)"
   ]
  },
  {
   "cell_type": "code",
   "execution_count": 93,
   "metadata": {},
   "outputs": [
    {
     "data": {
      "text/plain": [
       "[(4316, 'the'),\n",
       " (4104, 'to'),\n",
       " (3574, 'of'),\n",
       " (3370, 'and'),\n",
       " (1951, 'her'),\n",
       " (1934, 'a'),\n",
       " (1838, 'in'),\n",
       " (1800, 'was'),\n",
       " (1758, 'i'),\n",
       " (1618, 'she'),\n",
       " (1439, 'that'),\n",
       " (1358, 'not'),\n",
       " (1250, 'he'),\n",
       " (1243, 'his'),\n",
       " (1196, 'be')]"
      ]
     },
     "execution_count": 93,
     "metadata": {},
     "output_type": "execute_result"
    }
   ],
   "source": [
    "one_RDD = text_file.flatMap(lambda x: uni_to_clean_str(x).split())\n",
    "one_RDD = one_RDD.map(lambda x: (x,1)) \n",
    "one_RDD = one_RDD.reduceByKey(lambda x,y: x + y)\n",
    "one_RDD.take(5)\n",
    "one_RDD = one_RDD.map(lambda x:(x[1],x[0])) \n",
    "one_RDD.take(5)\n",
    "one_RDD.sortByKey(False).take(15)"
   ]
  },
  {
   "cell_type": "code",
   "execution_count": null,
   "metadata": {},
   "outputs": [],
   "source": []
  },
  {
   "cell_type": "code",
   "execution_count": null,
   "metadata": {},
   "outputs": [],
   "source": []
  },
  {
   "cell_type": "code",
   "execution_count": null,
   "metadata": {},
   "outputs": [],
   "source": []
  },
  {
   "cell_type": "code",
   "execution_count": null,
   "metadata": {},
   "outputs": [],
   "source": []
  }
 ],
 "metadata": {
  "kernelspec": {
   "display_name": "Python 3",
   "language": "python",
   "name": "python3"
  },
  "language_info": {
   "codemirror_mode": {
    "name": "ipython",
    "version": 3
   },
   "file_extension": ".py",
   "mimetype": "text/x-python",
   "name": "python",
   "nbconvert_exporter": "python",
   "pygments_lexer": "ipython3",
   "version": "3.7.3"
  }
 },
 "nbformat": 4,
 "nbformat_minor": 2
}
